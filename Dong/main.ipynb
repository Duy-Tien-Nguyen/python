{
 "cells": [
  {
   "cell_type": "code",
   "execution_count": 112,
   "metadata": {},
   "outputs": [],
   "source": [
    "import pandas as pd\n",
    "import numpy as np\n",
    "import matplotlib.pyplot as plt\n",
    "import seaborn as sns\n",
    "from pymongo import MongoClient\n",
    "\n"
   ]
  },
  {
   "cell_type": "code",
   "execution_count": null,
   "metadata": {},
   "outputs": [
    {
     "name": "stdout",
     "output_type": "stream",
     "text": [
      "Đã lưu file các thuộc tính cần lấy: C:\\Users\\Admin\\Desktop\\BaitaplonPython\\laptopData_filtered_cleaned.csv\n"
     ]
    }
   ],
   "source": [
    "# Đọc dữ liệu từ file CSV\n",
    "file_path = './laptopData.csv'\n",
    "df = pd.read_csv(file_path)\n",
    "\n",
    "# Chọn các cột 'Company', 'Typename', 'Ram', 'OpSys'\n",
    "df_selected = df[['Company', 'TypeName', 'Ram', 'OpSys']]\n",
    "\n",
    "# Lưu lại dữ liệu đã được xử lý vào một file CSV mới\n",
    "output_file_path = './laptopData_filtered_cleaned.csv'\n",
    "df_selected.to_csv(output_file_path, index=False)\n",
    "\n",
    "# In ra thông báo\n",
    "print(f\"Đã lưu file các thuộc tính cần lấy: {output_file_path}\")"
   ]
  },
  {
   "cell_type": "code",
   "execution_count": null,
   "metadata": {},
   "outputs": [
    {
     "name": "stdout",
     "output_type": "stream",
     "text": [
      "Đã đọc file: C:\\Users\\Admin\\Desktop\\BaitaplonPython\\laptopData_filtered_cleaned.csv\n"
     ]
    }
   ],
   "source": [
    "file_path = './laptopData_filtered_cleaned.csv'\n",
    "df2 = pd.read_csv(file_path)\n",
    "print(f\"Đã đọc file: {file_path}\")"
   ]
  },
  {
   "cell_type": "code",
   "execution_count": 115,
   "metadata": {},
   "outputs": [
    {
     "name": "stdout",
     "output_type": "stream",
     "text": [
      "  Company   TypeName   Ram  OpSys\n",
      "0   Apple  Ultrabook   8GB  macOS\n",
      "1   Apple  Ultrabook   8GB  macOS\n",
      "2      HP   Notebook   8GB  No OS\n",
      "3   Apple  Ultrabook  16GB  macOS\n",
      "4   Apple  Ultrabook   8GB  macOS\n"
     ]
    }
   ],
   "source": [
    "\n",
    "# In ra 5 dòng đầu tiên của data_selected (df2)\n",
    "print(df2.head())\n"
   ]
  },
  {
   "cell_type": "code",
   "execution_count": 116,
   "metadata": {},
   "outputs": [
    {
     "name": "stdout",
     "output_type": "stream",
     "text": [
      "<class 'pandas.core.frame.DataFrame'>\n",
      "RangeIndex: 1303 entries, 0 to 1302\n",
      "Data columns (total 4 columns):\n",
      " #   Column    Non-Null Count  Dtype \n",
      "---  ------    --------------  ----- \n",
      " 0   Company   1273 non-null   object\n",
      " 1   TypeName  1273 non-null   object\n",
      " 2   Ram       1273 non-null   object\n",
      " 3   OpSys     1273 non-null   object\n",
      "dtypes: object(4)\n",
      "memory usage: 40.8+ KB\n",
      "None\n"
     ]
    }
   ],
   "source": [
    "print(df2.info())"
   ]
  },
  {
   "cell_type": "code",
   "execution_count": 117,
   "metadata": {},
   "outputs": [
    {
     "name": "stdout",
     "output_type": "stream",
     "text": [
      "Company     30\n",
      "TypeName    30\n",
      "Ram         30\n",
      "OpSys       30\n",
      "dtype: int64\n",
      "120\n"
     ]
    }
   ],
   "source": [
    "\n",
    "# Kiểm tra số lượng giá trị thiếu trong từng cột\n",
    "print(df2.isnull().sum())\n",
    "\n",
    "# Kiểm tra tổng số giá trị thiếu trong toàn bộ DataFrame\n",
    "print(df2.isnull().sum().sum())\n"
   ]
  },
  {
   "cell_type": "code",
   "execution_count": 118,
   "metadata": {},
   "outputs": [
    {
     "name": "stdout",
     "output_type": "stream",
     "text": [
      "\n",
      "Các dòng có giá trị thiếu:\n",
      "     Company TypeName  Ram OpSys\n",
      "20       NaN      NaN  NaN   NaN\n",
      "46       NaN      NaN  NaN   NaN\n",
      "50       NaN      NaN  NaN   NaN\n",
      "115      NaN      NaN  NaN   NaN\n",
      "125      NaN      NaN  NaN   NaN\n",
      "148      NaN      NaN  NaN   NaN\n",
      "190      NaN      NaN  NaN   NaN\n",
      "209      NaN      NaN  NaN   NaN\n",
      "267      NaN      NaN  NaN   NaN\n",
      "336      NaN      NaN  NaN   NaN\n",
      "350      NaN      NaN  NaN   NaN\n",
      "478      NaN      NaN  NaN   NaN\n",
      "567      NaN      NaN  NaN   NaN\n",
      "616      NaN      NaN  NaN   NaN\n",
      "625      NaN      NaN  NaN   NaN\n",
      "629      NaN      NaN  NaN   NaN\n",
      "666      NaN      NaN  NaN   NaN\n",
      "699      NaN      NaN  NaN   NaN\n",
      "726      NaN      NaN  NaN   NaN\n",
      "747      NaN      NaN  NaN   NaN\n",
      "753      NaN      NaN  NaN   NaN\n",
      "774      NaN      NaN  NaN   NaN\n",
      "922      NaN      NaN  NaN   NaN\n",
      "923      NaN      NaN  NaN   NaN\n",
      "938      NaN      NaN  NaN   NaN\n",
      "978      NaN      NaN  NaN   NaN\n",
      "994      NaN      NaN  NaN   NaN\n",
      "1060     NaN      NaN  NaN   NaN\n",
      "1202     NaN      NaN  NaN   NaN\n",
      "1245     NaN      NaN  NaN   NaN\n"
     ]
    }
   ],
   "source": [
    "\n",
    "# Kiểm tra các dòng có giá trị thiếu\n",
    "rows_with_missing_data = df2[df2.isnull().any(axis=1)]\n",
    "print(\"\\nCác dòng có giá trị thiếu:\")\n",
    "print(rows_with_missing_data)\n"
   ]
  },
  {
   "cell_type": "code",
   "execution_count": 119,
   "metadata": {},
   "outputs": [],
   "source": [
    "# Xóa các dòng có giá trị thiếu trong các cột đã chọn\n",
    "df_cleaned = df2.dropna()\n",
    "\n",
    "# Đặt lại chỉ số sau khi xóa các dòng\n",
    "df_cleaned.reset_index(drop=True, inplace=True)\n",
    "\n",
    "#cập nhật df2 mới sau khi xử lý dữ liệu thiếu\n",
    "df2 = df_cleaned\n"
   ]
  },
  {
   "cell_type": "code",
   "execution_count": null,
   "metadata": {},
   "outputs": [
    {
     "name": "stdout",
     "output_type": "stream",
     "text": [
      "<class 'pandas.core.frame.DataFrame'>\n",
      "RangeIndex: 1273 entries, 0 to 1272\n",
      "Data columns (total 4 columns):\n",
      " #   Column    Non-Null Count  Dtype \n",
      "---  ------    --------------  ----- \n",
      " 0   Company   1273 non-null   object\n",
      " 1   TypeName  1273 non-null   object\n",
      " 2   Ram       1273 non-null   object\n",
      " 3   OpSys     1273 non-null   object\n",
      "dtypes: object(4)\n",
      "memory usage: 39.9+ KB\n",
      "Company     0\n",
      "TypeName    0\n",
      "Ram         0\n",
      "OpSys       0\n",
      "dtype: int64\n",
      "0\n",
      "Đã lưu file: C:\\Users\\Admin\\Desktop\\BaitaplonPython\\laptopData_filtered_cleaned.csv\n"
     ]
    }
   ],
   "source": [
    "#kiểm tra lại coi còn dữ liệu thiếu không\n",
    "df2.info()\n",
    "# Kiểm tra số lượng giá trị thiếu trong từng cột\n",
    "print(df2.isnull().sum())\n",
    "\n",
    "# Kiểm tra tổng số giá trị thiếu trong toàn bộ DataFrame\n",
    "print(df2.isnull().sum().sum())\n",
    "\n",
    "#Rồi lưu lại vào file\n",
    "output_file_path = './laptopData_filtered_cleaned.csv'\n",
    "df2.to_csv(output_file_path, index=False)\n",
    "print(f\"Đã lưu file: {output_file_path}\")"
   ]
  },
  {
   "cell_type": "code",
   "execution_count": null,
   "metadata": {},
   "outputs": [
    {
     "name": "stdout",
     "output_type": "stream",
     "text": [
      "Đã lưu file: C:\\Users\\Admin\\Desktop\\BaitaplonPython\\laptopData_filtered_cleaned.csv\n"
     ]
    },
    {
     "data": {
      "text/html": [
       "<div>\n",
       "<style scoped>\n",
       "    .dataframe tbody tr th:only-of-type {\n",
       "        vertical-align: middle;\n",
       "    }\n",
       "\n",
       "    .dataframe tbody tr th {\n",
       "        vertical-align: top;\n",
       "    }\n",
       "\n",
       "    .dataframe thead th {\n",
       "        text-align: right;\n",
       "    }\n",
       "</style>\n",
       "<table border=\"1\" class=\"dataframe\">\n",
       "  <thead>\n",
       "    <tr style=\"text-align: right;\">\n",
       "      <th></th>\n",
       "      <th>Company</th>\n",
       "      <th>TypeName</th>\n",
       "      <th>Ram</th>\n",
       "      <th>OpSys</th>\n",
       "    </tr>\n",
       "  </thead>\n",
       "  <tbody>\n",
       "    <tr>\n",
       "      <th>0</th>\n",
       "      <td>Apple</td>\n",
       "      <td>Ultrabook</td>\n",
       "      <td>8</td>\n",
       "      <td>macOS</td>\n",
       "    </tr>\n",
       "    <tr>\n",
       "      <th>1</th>\n",
       "      <td>Apple</td>\n",
       "      <td>Ultrabook</td>\n",
       "      <td>8</td>\n",
       "      <td>macOS</td>\n",
       "    </tr>\n",
       "    <tr>\n",
       "      <th>2</th>\n",
       "      <td>HP</td>\n",
       "      <td>Notebook</td>\n",
       "      <td>8</td>\n",
       "      <td>No OS</td>\n",
       "    </tr>\n",
       "    <tr>\n",
       "      <th>3</th>\n",
       "      <td>Apple</td>\n",
       "      <td>Ultrabook</td>\n",
       "      <td>16</td>\n",
       "      <td>macOS</td>\n",
       "    </tr>\n",
       "    <tr>\n",
       "      <th>4</th>\n",
       "      <td>Apple</td>\n",
       "      <td>Ultrabook</td>\n",
       "      <td>8</td>\n",
       "      <td>macOS</td>\n",
       "    </tr>\n",
       "    <tr>\n",
       "      <th>5</th>\n",
       "      <td>Acer</td>\n",
       "      <td>Notebook</td>\n",
       "      <td>4</td>\n",
       "      <td>Windows 10</td>\n",
       "    </tr>\n",
       "    <tr>\n",
       "      <th>6</th>\n",
       "      <td>Apple</td>\n",
       "      <td>Ultrabook</td>\n",
       "      <td>16</td>\n",
       "      <td>Mac OS X</td>\n",
       "    </tr>\n",
       "    <tr>\n",
       "      <th>7</th>\n",
       "      <td>Apple</td>\n",
       "      <td>Ultrabook</td>\n",
       "      <td>8</td>\n",
       "      <td>macOS</td>\n",
       "    </tr>\n",
       "    <tr>\n",
       "      <th>8</th>\n",
       "      <td>Asus</td>\n",
       "      <td>Ultrabook</td>\n",
       "      <td>16</td>\n",
       "      <td>Windows 10</td>\n",
       "    </tr>\n",
       "    <tr>\n",
       "      <th>9</th>\n",
       "      <td>Acer</td>\n",
       "      <td>Ultrabook</td>\n",
       "      <td>8</td>\n",
       "      <td>Windows 10</td>\n",
       "    </tr>\n",
       "  </tbody>\n",
       "</table>\n",
       "</div>"
      ],
      "text/plain": [
       "  Company   TypeName  Ram       OpSys\n",
       "0   Apple  Ultrabook    8       macOS\n",
       "1   Apple  Ultrabook    8       macOS\n",
       "2      HP   Notebook    8       No OS\n",
       "3   Apple  Ultrabook   16       macOS\n",
       "4   Apple  Ultrabook    8       macOS\n",
       "5    Acer   Notebook    4  Windows 10\n",
       "6   Apple  Ultrabook   16    Mac OS X\n",
       "7   Apple  Ultrabook    8       macOS\n",
       "8    Asus  Ultrabook   16  Windows 10\n",
       "9    Acer  Ultrabook    8  Windows 10"
      ]
     },
     "execution_count": 121,
     "metadata": {},
     "output_type": "execute_result"
    }
   ],
   "source": [
    "# 2. Xử lý dữ liệu không hợp lệ\n",
    "# Chuẩn hóa và kiểm tra giá trị Ram, loại bỏ \"GB\" và chuyển thành kiểu số\n",
    "df2['Ram'] = df2['Ram'].apply(lambda x: x.replace('GB', '') if isinstance(x, str) else x)\n",
    "df2['Ram'] = pd.to_numeric(df2['Ram'], errors='coerce')  # Chuyển Ram thành số, nếu không hợp lệ sẽ là NaN\n",
    "df2.dropna(subset=['Ram'], inplace=True)  # Xóa dòng có Ram không hợp lệ\n",
    "df2 = df2[(df2['Ram'] > 0) & (df2['Ram'] <= 128)]  # Chỉ giữ lại các giá trị Ram hợp lý trong khoảng 1-128GB\n",
    "\n",
    "output_file_path = './laptopData_filtered_cleaned.csv'\n",
    "df2.to_csv(output_file_path, index=False)\n",
    "print(f\"Đã lưu file: {output_file_path}\")\n",
    "\n",
    "df2.head(10)"
   ]
  },
  {
   "cell_type": "code",
   "execution_count": 122,
   "metadata": {},
   "outputs": [
    {
     "name": "stdout",
     "output_type": "stream",
     "text": [
      "\n",
      "Các giá trị Ram không hợp lệ:\n",
      "Empty DataFrame\n",
      "Columns: [Company, TypeName, Ram, OpSys]\n",
      "Index: []\n"
     ]
    }
   ],
   "source": [
    "# Kiểm tra các giá trị không hợp lệ trong cột Ram\n",
    "# Lọc các giá trị âm hoặc quá lớn (nếu Ram không thể lớn hơn 128 GB chẳng hạn)\n",
    "invalid_ram = df2[(df2['Ram'] < 0) | (df2['Ram'] > 128)]\n",
    "print(\"\\nCác giá trị Ram không hợp lệ:\")\n",
    "print(invalid_ram)"
   ]
  },
  {
   "cell_type": "code",
   "execution_count": 123,
   "metadata": {},
   "outputs": [
    {
     "data": {
      "text/plain": [
       "array([ 8, 16,  4,  2, 12, 64,  6, 32, 24,  1])"
      ]
     },
     "execution_count": 123,
     "metadata": {},
     "output_type": "execute_result"
    }
   ],
   "source": [
    "df2['Ram'].unique()"
   ]
  },
  {
   "cell_type": "code",
   "execution_count": 131,
   "metadata": {},
   "outputs": [
    {
     "name": "stdout",
     "output_type": "stream",
     "text": [
      "['Apple' 'HP' 'Acer' 'Asus' 'Dell' 'Lenovo' 'Chuwi' 'MSI' 'Microsoft'\n",
      " 'Toshiba' 'Huawei' 'Xiaomi' 'Vero' 'Razer' 'Mediacom' 'Samsung' 'Google'\n",
      " 'Fujitsu' 'LG']\n",
      "['Ultrabook' 'Notebook' 'Gaming' '2 in 1 Convertible' 'Workstation'\n",
      " 'Netbook']\n",
      "[ 8 16  4  2 12 64  6 32 24  1]\n",
      "['macOS' 'No OS' 'Windows 10' 'Mac OS X' 'Linux' 'Windows 10 S'\n",
      " 'Chrome OS' 'Windows 7' 'Android']\n"
     ]
    }
   ],
   "source": [
    "print(df2['Company'].unique())  # Kiểm tra các giá trị duy nhất trong cột 'Company'\n",
    "print(df2['TypeName'].unique())  # Kiểm tra các giá trị duy nhất trong cột 'TypeName'\n",
    "print(df2['Ram'].unique()) # Kiểm tra các giá trị duy nhất trong cột 'Ram'\n",
    "print(df2['OpSys'].unique()) # # Kiểm tra các giá trị duy nhất trong cột 'OpSys'\n"
   ]
  },
  {
   "cell_type": "code",
   "execution_count": 125,
   "metadata": {},
   "outputs": [
    {
     "name": "stdout",
     "output_type": "stream",
     "text": [
      "Sự phân bổ của 'Company':\n",
      " Company\n",
      "Lenovo       290\n",
      "Dell         287\n",
      "HP           266\n",
      "Asus         156\n",
      "Acer         103\n",
      "MSI           53\n",
      "Toshiba       47\n",
      "Apple         21\n",
      "Samsung        9\n",
      "Mediacom       7\n",
      "Razer          7\n",
      "Microsoft      6\n",
      "Vero           4\n",
      "Xiaomi         4\n",
      "Chuwi          3\n",
      "LG             3\n",
      "Google         3\n",
      "Huawei         2\n",
      "Fujitsu        2\n",
      "Name: count, dtype: int64\n"
     ]
    }
   ],
   "source": [
    "# Kiểm tra sự phân bố trong 'Company'\n",
    "company_counts = df2['Company'].value_counts()\n",
    "\n",
    "print(\"Sự phân bổ của 'Company':\\n\", company_counts)"
   ]
  },
  {
   "cell_type": "code",
   "execution_count": 126,
   "metadata": {},
   "outputs": [
    {
     "name": "stdout",
     "output_type": "stream",
     "text": [
      "Sự phân bổ của 'TypeName':\n",
      " TypeName\n",
      "Notebook              710\n",
      "Gaming                203\n",
      "Ultrabook             191\n",
      "2 in 1 Convertible    116\n",
      "Workstation            29\n",
      "Netbook                24\n",
      "Name: count, dtype: int64\n"
     ]
    }
   ],
   "source": [
    "typename_counts = df2['TypeName'].value_counts()\n",
    "print(\"Sự phân bổ của 'TypeName':\\n\", typename_counts)"
   ]
  },
  {
   "cell_type": "code",
   "execution_count": null,
   "metadata": {},
   "outputs": [],
   "source": []
  },
  {
   "cell_type": "code",
   "execution_count": 127,
   "metadata": {},
   "outputs": [
    {
     "name": "stdout",
     "output_type": "stream",
     "text": [
      "['Ultrabook' 'Notebook' 'Gaming' '2 in 1 Convertible' 'Workstation'\n",
      " 'Netbook']\n",
      "TypeName\n",
      "Notebook              710\n",
      "Gaming                203\n",
      "Ultrabook             191\n",
      "2 in 1 Convertible    116\n",
      "Workstation            29\n",
      "Netbook                24\n",
      "Name: count, dtype: int64\n"
     ]
    }
   ],
   "source": [
    "# Kiểm tra tất cả các giá trị duy nhất trong cột 'TypeName'\n",
    "print(df2['TypeName'].unique())\n",
    "\n",
    "# Kiểm tra số lượng các giá trị duy nhất trong cột 'TypeName'\n",
    "print(df2['TypeName'].value_counts())\n"
   ]
  },
  {
   "cell_type": "code",
   "execution_count": 128,
   "metadata": {},
   "outputs": [
    {
     "name": "stdout",
     "output_type": "stream",
     "text": [
      "['Ultrabook' 'Notebook' 'Gaming' '2 in 1 Convertible' 'Workstation'\n",
      " 'Netbook']\n"
     ]
    }
   ],
   "source": [
    "# Loại bỏ khoảng trắng thừa ở đầu và cuối chuỗi trong 'TypeName'\n",
    "df2['TypeName'] = df2['TypeName'].str.strip()\n",
    "\n",
    "# Kiểm tra lại các giá trị sau khi loại bỏ khoảng trắng thừa\n",
    "print(df2['TypeName'].unique())\n"
   ]
  },
  {
   "cell_type": "code",
   "execution_count": 60,
   "metadata": {},
   "outputs": [
    {
     "data": {
      "image/png": "[encoded data removed]",
      "text/plain": [
       "<Figure size 800x800 with 1 Axes>"
      ]
     },
     "metadata": {},
     "output_type": "display_data"
    },
    {
     "name": "stdout",
     "output_type": "stream",
     "text": [
      "Company\n",
      "Lenovo           290\n",
      "Dell             287\n",
      "HP               266\n",
      "Asus             156\n",
      "Other_Company    118\n",
      "Acer             103\n",
      "MSI               53\n",
      "Name: count, dtype: int64\n"
     ]
    }
   ],
   "source": [
    "\n",
    "# Danh sách các công ty cần giữ lại\n",
    "companies_to_keep = ['Lenovo', 'Dell', 'HP', 'Asus', 'Acer', 'MSI',]\n",
    "\n",
    "# Thay thế các công ty không có trong danh sách trên bằng 'Other_Company'\n",
    "df2['Company'] = df2['Company'].apply(lambda x: x if x in companies_to_keep else 'Other_Company')\n",
    "\n",
    "# Tính số lượng mỗi giá trị trong cột 'Company' sau khi nhóm lại\n",
    "company_counts = df2['Company'].value_counts()\n",
    "\n",
    "# Vẽ biểu đồ tròn\n",
    "plt.figure(figsize=(8, 8))  # Đặt kích thước hình ảnh\n",
    "plt.pie(company_counts, labels=company_counts.index, autopct='%1.1f%%', startangle=90)\n",
    "plt.title('Phân bố các công ty trong dữ liệu ')\n",
    "plt.axis('equal')  # Đảm bảo biểu đồ tròn đều\n",
    "plt.show()\n",
    "\n",
    "print(company_counts)\n"
   ]
  },
  {
   "cell_type": "code",
   "execution_count": 61,
   "metadata": {},
   "outputs": [
    {
     "data": {
      "image/png": "[encoded data removed]",
      "text/plain": [
       "<Figure size 800x800 with 1 Axes>"
      ]
     },
     "metadata": {},
     "output_type": "display_data"
    },
    {
     "name": "stdout",
     "output_type": "stream",
     "text": [
      "TypeName\n",
      "Notebook              710\n",
      "Gaming                203\n",
      "Ultrabook             191\n",
      "2 in 1 Convertible    116\n",
      "Workstation            29\n",
      "Netbook                24\n",
      "Name: count, dtype: int64\n"
     ]
    }
   ],
   "source": [
    "\n",
    "\n",
    "# Danh sách các loại sản phẩm cần giữ lại\n",
    "typenames_to_keep = ['Notebook', 'Ultrabook', 'Gaming', '2 in 1 Convertible', 'Workstation', 'Netbook']\n",
    "\n",
    "# Thay thế các loại sản phẩm không có trong danh sách trên bằng 'Other_Type'\n",
    "df2['TypeName'] = df2['TypeName'].apply(lambda x: x if x in typenames_to_keep else 'Other_Type')\n",
    "\n",
    "# Tính số lượng mỗi giá trị trong cột 'TypeName' sau khi nhóm lại\n",
    "typename_counts = df2['TypeName'].value_counts()\n",
    "\n",
    "# Vẽ biểu đồ tròn\n",
    "plt.figure(figsize=(8, 8))  # Đặt kích thước hình ảnh\n",
    "plt.pie(typename_counts, labels=typename_counts.index, autopct='%1.1f%%', startangle=90)\n",
    "plt.title('Phân bố các loại sản phẩm trong dữ liệu ')\n",
    "plt.axis('equal')  # Đảm bảo biểu đồ tròn đều\n",
    "plt.show()\n",
    "\n",
    "print(typename_counts)\n"
   ]
  },
  {
   "cell_type": "code",
   "execution_count": 62,
   "metadata": {},
   "outputs": [
    {
     "data": {
      "text/plain": [
       "array(['macOS', 'No OS', 'Windows 10', 'Mac OS X', nan, 'Linux',\n",
       "       'Windows 10 S', 'Chrome OS', 'Windows 7', 'Android'], dtype=object)"
      ]
     },
     "execution_count": 62,
     "metadata": {},
     "output_type": "execute_result"
    }
   ],
   "source": [
    "df['OpSys'].unique()"
   ]
  },
  {
   "cell_type": "code",
   "execution_count": 63,
   "metadata": {},
   "outputs": [
    {
     "data": {
      "image/png": "[encoded data removed]",
      "text/plain": [
       "<Figure size 800x600 with 1 Axes>"
      ]
     },
     "metadata": {},
     "output_type": "display_data"
    },
    {
     "name": "stdout",
     "output_type": "stream",
     "text": [
      "OpSys\n",
      "Windows 10     1047\n",
      "No OS            63\n",
      "Linux            61\n",
      "Other_OpSys      57\n",
      "Windows 7        45\n",
      "Name: count, dtype: int64\n"
     ]
    }
   ],
   "source": [
    "# Lọc các hệ điều hành phổ biến và gán các hệ điều hành còn lại vào 'Other_OpSys'\n",
    "top_5_op_sys = ['Windows 10', 'No OS', 'Linux', 'Windows 7']\n",
    "df2['OpSys'] = df2['OpSys'].apply(lambda x: x if x in top_5_op_sys else 'Other_OpSys')\n",
    "\n",
    "# Kiểm tra phân bổ của trường OpSys sau khi xử lý\n",
    "op_sys_counts = df2['OpSys'].value_counts()\n",
    "\n",
    "# Vẽ sơ đồ tròn cho OpSys\n",
    "import matplotlib.pyplot as plt\n",
    "plt.figure(figsize=(8, 6))\n",
    "op_sys_counts.plot(kind='pie', autopct='%1.1f%%', startangle=90, cmap='Set3')\n",
    "plt.title('Phân bổ các hệ điều hành trong OpSys')\n",
    "plt.ylabel('')  # Tắt nhãn y\n",
    "plt.show()\n",
    "\n",
    "# In phân bổ các hệ điều hành\n",
    "print(op_sys_counts)\n"
   ]
  },
  {
   "cell_type": "code",
   "execution_count": 64,
   "metadata": {},
   "outputs": [
    {
     "data": {
      "text/plain": [
       "array([ 8, 16,  4,  2, 12, 64,  6, 32, 24,  1])"
      ]
     },
     "execution_count": 64,
     "metadata": {},
     "output_type": "execute_result"
    }
   ],
   "source": [
    "df2['Ram'].unique()"
   ]
  },
  {
   "cell_type": "code",
   "execution_count": 65,
   "metadata": {},
   "outputs": [
    {
     "name": "stdout",
     "output_type": "stream",
     "text": [
      "Ram\n",
      "8     601\n",
      "4     367\n",
      "16    194\n",
      "6      40\n",
      "12     25\n",
      "2      22\n",
      "32     17\n",
      "64      3\n",
      "24      3\n",
      "1       1\n",
      "Name: count, dtype: int64\n"
     ]
    }
   ],
   "source": [
    "# Kiểm tra phân bố dữ liệu trong cột 'Ram'\n",
    "print(df2['Ram'].value_counts())\n"
   ]
  },
  {
   "cell_type": "code",
   "execution_count": 132,
   "metadata": {},
   "outputs": [
    {
     "name": "stdout",
     "output_type": "stream",
     "text": [
      "OpSys\n",
      "Windows 10      1047\n",
      "No OS             63\n",
      "Linux             61\n",
      "Windows 7         45\n",
      "Chrome OS         27\n",
      "macOS             13\n",
      "Mac OS X           8\n",
      "Windows 10 S       8\n",
      "Android            1\n",
      "Name: count, dtype: int64\n"
     ]
    }
   ],
   "source": [
    "print(df2['OpSys'].value_counts())"
   ]
  },
  {
   "cell_type": "code",
   "execution_count": 66,
   "metadata": {},
   "outputs": [
    {
     "name": "stdout",
     "output_type": "stream",
     "text": [
      "Ram\n",
      "8            601\n",
      "4            367\n",
      "16           194\n",
      "Other_Ram     46\n",
      "6             40\n",
      "12            25\n",
      "Name: count, dtype: int64\n"
     ]
    },
    {
     "data": {
      "image/png": "[encoded data removed]",
      "text/plain": [
       "<Figure size 800x800 with 1 Axes>"
      ]
     },
     "metadata": {},
     "output_type": "display_data"
    }
   ],
   "source": [
    "# Danh sách các giá trị RAM cần giữ lại\n",
    "ram_values_to_keep = ['8', '4', '16', '6', '12']\n",
    "\n",
    "# Chuyển tất cả các giá trị trong cột 'Ram' thành chuỗi để tiện so sánh\n",
    "df2['Ram'] = df2['Ram'].astype(str)\n",
    "\n",
    "# Chỉ giữ các giá trị RAM trong danh sách cần giữ, các giá trị khác gán thành 'Other_Ram'\n",
    "df2['Ram'] = df2['Ram'].apply(lambda x: x if x in ram_values_to_keep else 'Other_Ram')\n",
    "\n",
    "# Kiểm tra lại phân phối sau khi thay đổi\n",
    "print(df2['Ram'].value_counts())\n",
    "\n",
    "# Vẽ biểu đồ phân bố\n",
    "ram_counts = df2['Ram'].value_counts()\n",
    "ram_counts.plot(kind='pie', autopct='%1.1f%%', figsize=(8, 8), startangle=90)\n",
    "plt.title('Phân bố RAM sau khi xử lý')\n",
    "plt.ylabel('')\n",
    "plt.show()\n"
   ]
  },
  {
   "cell_type": "code",
   "execution_count": null,
   "metadata": {},
   "outputs": [],
   "source": [
    "# Chuyển tất cả các giá trị trong cột 'Ram' thành chuỗi để tiện so sánh\n",
    "df2['Ram'] = df2['Ram'].astype(str)\n",
    "\n",
    "# Kiểm tra lại phân phối sau khi giữ nguyên tất cả các giá trị RAM\n",
    "print(df2['Ram'].value_counts())\n",
    "\n",
    "# Vẽ biểu đồ phân bố cho tất cả các giá trị RAM\n",
    "ram_counts = df2['Ram'].value_counts()\n",
    "ram_counts.plot(kind='pie', autopct='%1.1f%%', figsize=(8, 8), startangle=90)\n",
    "plt.title('Phân bố RAM sau khi xử lý')\n",
    "plt.ylabel('')  # Không hiển thị nhãn cho trục y\n",
    "plt.show()"
   ]
  },
  {
   "cell_type": "code",
   "execution_count": 133,
   "metadata": {},
   "outputs": [
    {
     "name": "stdout",
     "output_type": "stream",
     "text": [
      "    Lenovo  Dell  HP  Asus  MSI  Other_Comp\n",
      "0        0     0   0     0    0           1\n",
      "1        0     0   0     0    0           1\n",
      "2        0     0   1     0    0           0\n",
      "3        0     0   0     0    0           1\n",
      "4        0     0   0     0    0           1\n",
      "5        0     0   0     0    0           1\n",
      "6        0     0   0     0    0           1\n",
      "7        0     0   0     0    0           1\n",
      "8        0     0   0     1    0           0\n",
      "9        0     0   0     0    0           1\n",
      "10       0     0   1     0    0           0\n",
      "11       0     0   1     0    0           0\n",
      "12       0     0   0     0    0           1\n",
      "13       0     1   0     0    0           0\n",
      "14       0     0   0     0    0           1\n",
      "15       0     0   0     0    0           1\n",
      "16       0     1   0     0    0           0\n",
      "17       0     0   0     0    0           1\n",
      "18       1     0   0     0    0           0\n",
      "19       0     1   0     0    0           0\n"
     ]
    }
   ],
   "source": [
    "# Danh sách các hãng cần giữ cho cột Company\n",
    "companies = ['Lenovo', 'Dell', 'HP', 'Asus', 'MSI']\n",
    "\n",
    "# 1. Xử lý cột Company và tạo các cột cho mỗi hãng cần giữ\n",
    "for company in companies:\n",
    "    df2[company] = df2['Company'].apply(lambda x: 1 if x == company else 0)\n",
    "\n",
    "# Tạo cột Other_Comp cho những hãng không có trong danh sách\n",
    "df2['Other_Comp'] = df2['Company'].apply(lambda x: 1 if x not in companies else 0)\n",
    "\n",
    "columns_to_save = companies + ['Other_Comp']\n",
    "# Lấy các cột cần thiết\n",
    "df_to_save = df2[columns_to_save]\n",
    "\n",
    "print(df_to_save.head(20))  # In ra 20 dòng đầu tiên"
   ]
  },
  {
   "cell_type": "code",
   "execution_count": 134,
   "metadata": {},
   "outputs": [
    {
     "name": "stdout",
     "output_type": "stream",
     "text": [
      "    Notebook  Gaming  Ultrabook  2 in 1 Convertible  Workstation  Netbook  \\\n",
      "0          0       0          1                   0            0        0   \n",
      "1          0       0          1                   0            0        0   \n",
      "2          1       0          0                   0            0        0   \n",
      "3          0       0          1                   0            0        0   \n",
      "4          0       0          1                   0            0        0   \n",
      "5          1       0          0                   0            0        0   \n",
      "6          0       0          1                   0            0        0   \n",
      "7          0       0          1                   0            0        0   \n",
      "8          0       0          1                   0            0        0   \n",
      "9          0       0          1                   0            0        0   \n",
      "10         1       0          0                   0            0        0   \n",
      "11         1       0          0                   0            0        0   \n",
      "12         0       0          1                   0            0        0   \n",
      "13         1       0          0                   0            0        0   \n",
      "14         0       0          1                   0            0        0   \n",
      "15         0       0          1                   0            0        0   \n",
      "16         1       0          0                   0            0        0   \n",
      "17         0       0          1                   0            0        0   \n",
      "18         1       0          0                   0            0        0   \n",
      "19         0       0          1                   0            0        0   \n",
      "\n",
      "    Other_TypeName  \n",
      "0                0  \n",
      "1                0  \n",
      "2                0  \n",
      "3                0  \n",
      "4                0  \n",
      "5                0  \n",
      "6                0  \n",
      "7                0  \n",
      "8                0  \n",
      "9                0  \n",
      "10               0  \n",
      "11               0  \n",
      "12               0  \n",
      "13               0  \n",
      "14               0  \n",
      "15               0  \n",
      "16               0  \n",
      "17               0  \n",
      "18               0  \n",
      "19               0  \n"
     ]
    }
   ],
   "source": [
    "# 2. Danh sách các giá trị cần giữ cho cột TypeName\n",
    "type_name_values = ['Notebook', 'Gaming', 'Ultrabook', '2 in 1 Convertible', 'Workstation', 'Netbook']\n",
    "\n",
    "# Xử lý cột TypeName và tạo các cột cho mỗi giá trị TypeName cần giữ\n",
    "for type_name in type_name_values:\n",
    "    df2[type_name] = df2['TypeName'].apply(lambda x: 1 if x == type_name else 0)\n",
    "\n",
    "# Tạo cột Other_TypeName cho các giá trị không có trong danh sách\n",
    "df2['Other_TypeName'] = df2['TypeName'].apply(lambda x: 1 if x not in type_name_values else 0)\n",
    "\n",
    "columns_to_save = type_name_values + ['Other_TypeName']\n",
    "# Lấy các cột cần thiết\n",
    "df_to_save = df2[columns_to_save]\n",
    "\n",
    "print(df_to_save.head(20))  # In ra 20 dòng đầu tiên"
   ]
  },
  {
   "cell_type": "code",
   "execution_count": 135,
   "metadata": {},
   "outputs": [
    {
     "name": "stdout",
     "output_type": "stream",
     "text": [
      "    Ram_Number\n",
      "0            8\n",
      "1            8\n",
      "2            8\n",
      "3           16\n",
      "4            8\n",
      "5            4\n",
      "6           16\n",
      "7            8\n",
      "8           16\n",
      "9            8\n",
      "10           4\n",
      "11           4\n",
      "12          16\n",
      "13           4\n",
      "14           8\n",
      "15           8\n",
      "16           8\n",
      "17          16\n",
      "18           8\n",
      "19           8\n"
     ]
    }
   ],
   "source": [
    "#  3. Danh sách các giá trị cần giữ cho cột Ram\n",
    "# Chuyển đổi cột 'Ram' thành số thực trong cột 'Ram_Number'\n",
    "df2['Ram_Number'] = pd.to_numeric(df2['Ram'], errors='coerce')  # 'coerce' sẽ chuyển các giá trị không hợp lệ thành NaN\n",
    "\n",
    "columns_to_save = ['Ram_Number']\n",
    "# Lấy các cột cần thiết\n",
    "df_to_save = df2[columns_to_save]\n",
    "\n",
    "print(df_to_save.head(20))  # In ra 20 dòng đầu tiên"
   ]
  },
  {
   "cell_type": "code",
   "execution_count": 136,
   "metadata": {},
   "outputs": [
    {
     "name": "stdout",
     "output_type": "stream",
     "text": [
      "    Windows  Other_OpSys\n",
      "0         0            1\n",
      "1         0            1\n",
      "2         0            1\n",
      "3         0            1\n",
      "4         0            1\n",
      "5         1            0\n",
      "6         0            1\n",
      "7         0            1\n",
      "8         1            0\n",
      "9         1            0\n",
      "10        0            1\n",
      "11        0            1\n",
      "12        0            1\n",
      "13        1            0\n",
      "14        0            1\n",
      "15        0            1\n",
      "16        1            0\n",
      "17        0            1\n",
      "18        0            1\n",
      "19        1            0\n"
     ]
    }
   ],
   "source": [
    "# 4. Xử lý cột OpSys để chia thành 'Windows' và 'Other_OpSys'\n",
    "df2['Windows'] = df2['OpSys'].apply(lambda x: 1 if x in ['Windows 10', 'Windows 7'] else 0)\n",
    "\n",
    "# Tạo cột Other_OpSys cho các giá trị không phải Windows\n",
    "df2['Other_OpSys'] = df2['OpSys'].apply(lambda x: 1 if x not in ['Windows 10', 'Windows 7'] else 0)\n",
    "\n",
    "columns_to_save = ['Windows', 'Other_OpSys']\n",
    "# Lấy các cột cần thiết\n",
    "df_to_save = df2[columns_to_save]\n",
    "\n",
    "print(df_to_save.head(20))  # In ra 20 dòng đầu tiên"
   ]
  },
  {
   "cell_type": "code",
   "execution_count": null,
   "metadata": {},
   "outputs": [],
   "source": [
    "\n",
    "# Đọc dữ liệu từ file CSV\n",
    "file_path = './laptopData_filtered_cleaned.csv'\n",
    "df2 = pd.read_csv(file_path)\n",
    "\n",
    "# Danh sách các hãng cần giữ cho cột Company\n",
    "companies = ['Lenovo', 'Dell', 'HP', 'Asus', 'MSI']\n",
    "\n",
    "# 1. Xử lý cột Company và tạo các cột cho mỗi hãng cần giữ\n",
    "for company in companies:\n",
    "    df2[company] = df2['Company'].apply(lambda x: 1 if x == company else 0)\n",
    "\n",
    "# Tạo cột Other_Comp cho những hãng không có trong danh sách\n",
    "df2['Other_Comp'] = df2['Company'].apply(lambda x: 1 if x not in companies else 0)\n",
    "\n",
    "# 2. Danh sách các giá trị cần giữ cho cột TypeName\n",
    "type_name_values = ['Notebook', 'Gaming', 'Ultrabook', '2 in 1 Convertible', 'Workstation', 'Netbook']\n",
    "\n",
    "# Xử lý cột TypeName và tạo các cột cho mỗi giá trị TypeName cần giữ\n",
    "for type_name in type_name_values:\n",
    "    df2[type_name] = df2['TypeName'].apply(lambda x: 1 if x == type_name else 0)\n",
    "\n",
    "# Tạo cột Other_TypeName cho các giá trị không có trong danh sách\n",
    "df2['Other_TypeName'] = df2['TypeName'].apply(lambda x: 1 if x not in type_name_values else 0)\n",
    "\n",
    "#  3. Danh sách các giá trị cần giữ cho cột Ram\n",
    "# Chuyển đổi cột 'Ram' thành số thực trong cột 'Ram_Number'\n",
    "df2['Ram_Number'] = pd.to_numeric(df2['Ram'], errors='coerce')  # 'coerce' sẽ chuyển các giá trị không hợp lệ thành NaN\n",
    "\n",
    "# 4. Xử lý cột OpSys để chia thành 'Windows' và 'Other_OpSys'\n",
    "df2['Windows'] = df2['OpSys'].apply(lambda x: 1 if x in ['Windows 10', 'Windows 7'] else 0)\n",
    "\n",
    "# Tạo cột Other_OpSys cho các giá trị không phải Windows\n",
    "df2['Other_OpSys'] = df2['OpSys'].apply(lambda x: 1 if x not in ['Windows 10', 'Windows 7'] else 0)\n",
    "\n",
    "# 5. Giữ lại chỉ các cột cần thiết (các cột đã xử lý từ 'Company', 'TypeName', 'Ram', 'OpSys')\n",
    "columns_to_save = companies + ['Other_Comp'] + type_name_values + ['Other_TypeName'] + ['Ram_Number'] + ['Windows', 'Other_OpSys']\n",
    "\n",
    "# Lấy các cột cần thiết\n",
    "df_to_save = df2[columns_to_save]"
   ]
  },
  {
   "cell_type": "code",
   "execution_count": 111,
   "metadata": {},
   "outputs": [
    {
     "name": "stdout",
     "output_type": "stream",
     "text": [
      "    Lenovo  Dell  HP  Asus  MSI  Other_Comp  Notebook  Gaming  Ultrabook  \\\n",
      "0        0     0   0     0    0           1         0       0          1   \n",
      "1        0     0   0     0    0           1         0       0          1   \n",
      "2        0     0   1     0    0           0         1       0          0   \n",
      "3        0     0   0     0    0           1         0       0          1   \n",
      "4        0     0   0     0    0           1         0       0          1   \n",
      "5        0     0   0     0    0           1         1       0          0   \n",
      "6        0     0   0     0    0           1         0       0          1   \n",
      "7        0     0   0     0    0           1         0       0          1   \n",
      "8        0     0   0     1    0           0         0       0          1   \n",
      "9        0     0   0     0    0           1         0       0          1   \n",
      "10       0     0   1     0    0           0         1       0          0   \n",
      "11       0     0   1     0    0           0         1       0          0   \n",
      "12       0     0   0     0    0           1         0       0          1   \n",
      "13       0     1   0     0    0           0         1       0          0   \n",
      "14       0     0   0     0    0           1         0       0          1   \n",
      "15       0     0   0     0    0           1         0       0          1   \n",
      "16       0     1   0     0    0           0         1       0          0   \n",
      "17       0     0   0     0    0           1         0       0          1   \n",
      "18       1     0   0     0    0           0         1       0          0   \n",
      "19       0     1   0     0    0           0         0       0          1   \n",
      "\n",
      "    2 in 1 Convertible  Workstation  Netbook  Other_TypeName  Ram_Number  \\\n",
      "0                    0            0        0               0         NaN   \n",
      "1                    0            0        0               0         NaN   \n",
      "2                    0            0        0               0         NaN   \n",
      "3                    0            0        0               0         NaN   \n",
      "4                    0            0        0               0         NaN   \n",
      "5                    0            0        0               0         NaN   \n",
      "6                    0            0        0               0         NaN   \n",
      "7                    0            0        0               0         NaN   \n",
      "8                    0            0        0               0         NaN   \n",
      "9                    0            0        0               0         NaN   \n",
      "10                   0            0        0               0         NaN   \n",
      "11                   0            0        0               0         NaN   \n",
      "12                   0            0        0               0         NaN   \n",
      "13                   0            0        0               0         NaN   \n",
      "14                   0            0        0               0         NaN   \n",
      "15                   0            0        0               0         NaN   \n",
      "16                   0            0        0               0         NaN   \n",
      "17                   0            0        0               0         NaN   \n",
      "18                   0            0        0               0         NaN   \n",
      "19                   0            0        0               0         NaN   \n",
      "\n",
      "    Windows  Other_OpSys  \n",
      "0         0            1  \n",
      "1         0            1  \n",
      "2         0            1  \n",
      "3         0            1  \n",
      "4         0            1  \n",
      "5         1            0  \n",
      "6         0            1  \n",
      "7         0            1  \n",
      "8         1            0  \n",
      "9         1            0  \n",
      "10        0            1  \n",
      "11        0            1  \n",
      "12        0            1  \n",
      "13        1            0  \n",
      "14        0            1  \n",
      "15        0            1  \n",
      "16        1            0  \n",
      "17        0            1  \n",
      "18        0            1  \n",
      "19        1            0  \n"
     ]
    }
   ],
   "source": [
    "# Kết nối tới MongoDB\n",
    "client = MongoClient('mongodb://localhost:27017/')  # Sử dụng URL kết nối MongoDB của bạn\n",
    "db = client['LaptopDB']  # Tạo hoặc kết nối tới database\n",
    "collection = db['Laptops']  # Tạo hoặc kết nối tới collection\n",
    "\n",
    "# Chuyển DataFrame thành danh sách các từ điển (dictionaries)\n",
    "records = df_to_save.to_dict(orient='records')\n",
    "\n",
    "# Lưu vào MongoDB\n",
    "collection.insert_many(records)\n",
    "\n"
   ]
  }
 ],
 "metadata": {
  "kernelspec": {
   "display_name": "myenv",
   "language": "python",
   "name": "python3"
  },
  "language_info": {
   "codemirror_mode": {
    "name": "ipython",
    "version": 3
   },
   "file_extension": ".py",
   "mimetype": "text/x-python",
   "name": "python",
   "nbconvert_exporter": "python",
   "pygments_lexer": "ipython3",
   "version": "3.12.3"
  }
 },
 "nbformat": 4,
 "nbformat_minor": 2
}
